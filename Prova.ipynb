{
 "cells": [
  {
   "cell_type": "code",
   "execution_count": 1,
   "metadata": {},
   "outputs": [
    {
     "name": "stderr",
     "output_type": "stream",
     "text": [
      "C:\\Users\\giuli\\AppData\\Local\\Packages\\PythonSoftwareFoundation.Python.3.9_qbz5n2kfra8p0\\LocalCache\\local-packages\\Python39\\site-packages\\gym\\utils\\passive_env_checker.py:97: UserWarning: \u001b[33mWARN: We recommend you to use a symmetric and normalized Box action space (range=[-1, 1]) https://stable-baselines3.readthedocs.io/en/master/guide/rl_tips.html\u001b[0m\n",
      "  logger.warn(\n"
     ]
    }
   ],
   "source": [
    "import gym\n",
    "\n",
    "#from my_lunar_lander import LunarLander\n",
    "#env = LunarLander()\n",
    "env = gym.make(\"LunarLander-v2\")"
   ]
  },
  {
   "cell_type": "markdown",
   "metadata": {},
   "source": [
    "### Understand the environment"
   ]
  },
  {
   "cell_type": "code",
   "execution_count": 2,
   "metadata": {},
   "outputs": [
    {
     "name": "stdout",
     "output_type": "stream",
     "text": [
      "env.action_space Discrete(4)\n",
      "env.observation_space Box([-1.5       -1.5       -5.        -5.        -3.1415927 -5.\n",
      " -0.        -0.       ], [1.5       1.5       5.        5.        3.1415927 5.        1.\n",
      " 1.       ], (8,), float32)\n",
      "env.observation_space.high [1.5       1.5       5.        5.        3.1415927 5.        1.\n",
      " 1.       ]\n",
      "env.observation_space.low [-1.5       -1.5       -5.        -5.        -3.1415927 -5.\n",
      " -0.        -0.       ]\n"
     ]
    }
   ],
   "source": [
    "def show_action_and_env_space(env):\n",
    "    # Action space and environment space\n",
    "    print(\"env.action_space\", env.action_space)\n",
    "    print(\"env.observation_space\", env.observation_space)\n",
    "    print(\"env.observation_space.high\", env.observation_space.high)\n",
    "    print(\"env.observation_space.low\", env.observation_space.low)\n",
    "show_action_and_env_space(env)"
   ]
  },
  {
   "cell_type": "markdown",
   "metadata": {},
   "source": [
    "### Utility functions for SARSA and Q-Learning"
   ]
  },
  {
   "cell_type": "code",
   "execution_count": 4,
   "metadata": {},
   "outputs": [],
   "source": [
    "# Discretizzazione naive\n",
    "n = 5\n",
    "\n",
    "s_space = np.linspace(-1.5, 1.5, n) # min max n_parti\n",
    "v_space = np.linspace(5, 5, n)\n",
    "theta_space = np.linspace(-3.1415927, 3.1415927, n)\n",
    "omega_space = np.linspace(5, 5, n)\n",
    "\n",
    "def discretize_states(observation):\n",
    "    sx, sy, vx, vy, theta, omega, bo1, bo2 = observation\n",
    "    sx_d = int(np.digitize(sx, s_space))\n",
    "    sy_d = int(np.digitize(sy, s_space))\n",
    "    vx_d = int(np.digitize(vx, v_space))\n",
    "    vy_d = int(np.digitize(vy, v_space))\n",
    "    theta_d = int(np.digitize(theta, theta_space))\n",
    "    omega_d = int(np.digitize(omega, omega_space))\n",
    "\n",
    "    return (sx_d, sy_d, vx_d, vy_d, theta_d, omega_d, bo1, bo2)   "
   ]
  },
  {
   "cell_type": "code",
   "execution_count": 5,
   "metadata": {},
   "outputs": [],
   "source": [
    "def discretize(n, obs):\n",
    "    tu = [min(np.floor(n/2), max(-np.floor(n/2), x/0.05)) for x in obs]\n",
    "    return tuple(tu)"
   ]
  },
  {
   "cell_type": "code",
   "execution_count": 7,
   "metadata": {},
   "outputs": [],
   "source": [
    "states = []\n",
    "for sx in range(10+1):\n",
    "    for sy in range(10+1):\n",
    "        for vx in range(10+1):\n",
    "            for vy in range(10+1):\n",
    "                for theta in range(n+1):\n",
    "                    for omega in range(n+1):\n",
    "                        for bo1 in range(2):\n",
    "                            for bo2 in range(2):\n",
    "                                states.append((sx, sy, vx, vy, theta, omega, bo1, bo2))\n",
    "state_number = len(states)\n",
    "\n",
    "actions = [0,1,2,3]\n",
    "action_number = len(actions)\n"
   ]
  },
  {
   "cell_type": "code",
   "execution_count": 8,
   "metadata": {},
   "outputs": [],
   "source": [
    "def init_Qtable(state_number, action_number):\n",
    "    q_table = {}\n",
    "    for state in states:\n",
    "        for action in actions:\n",
    "            q_table[state,action] = 0\n",
    "    return q_table"
   ]
  },
  {
   "cell_type": "code",
   "execution_count": null,
   "metadata": {},
   "outputs": [],
   "source": []
  },
  {
   "cell_type": "code",
   "execution_count": 1,
   "metadata": {},
   "outputs": [
    {
     "name": "stderr",
     "output_type": "stream",
     "text": [
      "C:\\Users\\giuli\\AppData\\Local\\Packages\\PythonSoftwareFoundation.Python.3.9_qbz5n2kfra8p0\\LocalCache\\local-packages\\Python39\\site-packages\\gym\\utils\\passive_env_checker.py:97: UserWarning: \u001b[33mWARN: We recommend you to use a symmetric and normalized Box action space (range=[-1, 1]) https://stable-baselines3.readthedocs.io/en/master/guide/rl_tips.html\u001b[0m\n",
      "  logger.warn(\n"
     ]
    }
   ],
   "source": [
    "import models\n",
    "import matplotlib.pyplot as plt\n",
    "import numpy as np\n",
    "\n",
    "alpha = 0.01\n",
    "eps = 0.1\n",
    "gamma = 0.99\n",
    "episodes = 100\n",
    "\n",
    "rew_r = models.random_agent(episodes)\n",
    "rew_s = models.sarsa(alpha, gamma, episodes)\n",
    "rew_q = models.q_learning(alpha, gamma, episodes)"
   ]
  },
  {
   "cell_type": "code",
   "execution_count": 3,
   "metadata": {},
   "outputs": [
    {
     "data": {
      "image/png": "[encoded data removed]",
      "text/plain": [
       "<Figure size 432x288 with 1 Axes>"
      ]
     },
     "metadata": {
      "needs_background": "light"
     },
     "output_type": "display_data"
    }
   ],
   "source": [
    "mean_rewards_r = np.zeros(episodes)\n",
    "mean_rewards_s = np.zeros(episodes)\n",
    "mean_rewards_q = np.zeros(episodes)\n",
    "for t in range(episodes):\n",
    "    mean_rewards_r[t] = np.mean(rew_r[max(0, t-10):(t+1)])\n",
    "    mean_rewards_s[t] = np.mean(rew_s[max(0, t-10):(t+1)])\n",
    "    mean_rewards_q[t] = np.mean(rew_q[max(0, t-10):(t+1)])\n",
    "\n",
    "plt.plot(mean_rewards_r, color=\"red\")\n",
    "plt.plot(mean_rewards_s, color=\"blue\")\n",
    "plt.plot(mean_rewards_q, color=\"green\")\n",
    "plt.show()"
   ]
  },
  {
   "cell_type": "code",
   "execution_count": null,
   "metadata": {},
   "outputs": [],
   "source": []
  }
 ],
 "metadata": {
  "kernelspec": {
   "display_name": "Python 3.9.13 64-bit (windows store)",
   "language": "python",
   "name": "python3"
  },
  "language_info": {
   "codemirror_mode": {
    "name": "ipython",
    "version": 3
   },
   "file_extension": ".py",
   "mimetype": "text/x-python",
   "name": "python",
   "nbconvert_exporter": "python",
   "pygments_lexer": "ipython3",
   "version": "3.9.13"
  },
  "orig_nbformat": 4,
  "vscode": {
   "interpreter": {
    "hash": "6a2705bb077fa2943766c83c4abb65d352fc3f713b0ec012bc76e8e1bb621488"
   }
  }
 },
 "nbformat": 4,
 "nbformat_minor": 2
}
